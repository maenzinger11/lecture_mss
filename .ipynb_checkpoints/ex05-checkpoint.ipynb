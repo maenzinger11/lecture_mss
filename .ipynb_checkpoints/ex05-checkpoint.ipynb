{
 "cells": [
  {
   "cell_type": "code",
   "execution_count": 16,
   "metadata": {},
   "outputs": [
    {
     "name": "stdout",
     "output_type": "stream",
     "text": [
      "1.18.1\n",
      "1.0.3\n",
      "3.4.2\n",
      "2.1.0\n"
     ]
    }
   ],
   "source": [
    "import numpy as np\n",
    "print(np.__version__)\n",
    "\n",
    "import pandas as pd\n",
    "print(pd.__version__)\n",
    "\n",
    "import cv2\n",
    "print(cv2.__version__)\n",
    "\n",
    "import tensorflow as tf\n",
    "print(tf.__version__)\n",
    "\n",
    "from sklearn.model_selection import train_test_split\n",
    "\n",
    "import matplotlib.pyplot as plt\n",
    "from PIL import Image"
   ]
  },
  {
   "cell_type": "code",
   "execution_count": 17,
   "metadata": {},
   "outputs": [
    {
     "name": "stdout",
     "output_type": "stream",
     "text": [
      "    Unnamed: 0                      name  total  train  test  bounding_box\n",
      "0            0             Homer Simpson   2246   1909   337           612\n",
      "1            1              Ned Flanders   1454   1236   218           595\n",
      "2            2               Moe Szyslak   1452   1234   218           215\n",
      "3            3              Lisa Simpson   1354   1151   203           562\n",
      "4            4              Bart Simpson   1342   1141   201           554\n",
      "5            5             Marge Simpson   1291   1097   194           557\n",
      "6            6          Krusty The Clown   1206   1025   181           226\n",
      "7            7         Principal Skinner   1194   1015   179           506\n",
      "8            8  Charles Montgomery Burns   1193   1014   179           650\n",
      "9            9       Milhouse Van Houten   1079    917   162           210\n",
      "10          10              Chief Wiggum    986    838   148           209\n",
      "11          11    Abraham Grampa Simpson    913    776   137           595\n",
      "12          12              Sideshow Bob    877    745   132           203\n",
      "13          13    Apu Nahasapeemapetilon    623    530    93           206\n",
      "14          14             Kent Brockman    498    423    75           213\n",
      "15          15            Comic Book Guy    469    399    70           208\n",
      "16          16            Edna Krabappel    457    388    69           212\n",
      "17          17              Nelson Muntz    358    304    54           219\n",
      "18          18             Lenny Leonard    310    264    46             0\n",
      "19          19              Mayor Quimby    246    209    37             0\n",
      "20          20           Waylon Smithers    181    154    27             0\n",
      "21          21            Maggie Simpson    128    109    19             0\n",
      "22          22      Groundskeeper Willie    121    103    18             0\n",
      "23          23             Barney Gumble    106     90    16             0\n",
      "24          24             Selma Bouvier    103     88    15             0\n",
      "25          25              Carl Carlson     98     83    15             0\n",
      "26          26              Ralph Wiggum     89     76    13             0\n",
      "27          27             Patty Bouvier     72     61    11             0\n",
      "28          28             Martin Prince     71     60    11             0\n",
      "29          29      Professor John Frink     65     55    10             0\n",
      "30          30            Snake Jailbird     55     47     8             0\n",
      "31          31           Cletus Spuckler     47     40     7             0\n",
      "32          32        Rainier Wolfcastle     45     38     7             0\n",
      "33          33             Agnes Skinner     42     36     6             0\n",
      "34          34              Sideshow Mel     40     34     6             0\n",
      "35          35                 Otto Mann     32     27     5             0\n",
      "36          36                  Fat Tony     27     23     4             0\n",
      "37          37                       Gil     27     23     4             0\n",
      "38          38               Miss Hoover     17     14     3             0\n",
      "39          39                 Disco Stu      8      7     1             0\n",
      "40          40              Troy Mcclure      8      7     1             0\n",
      "41          41               Lionel Hutz      3      3     0             0\n",
      "42          42               Jimbo Jones      0      0     0             0\n",
      "43          43             Bumblebee Man      0      0     0             0\n",
      "44          44              Hans Moleman      0      0     0             0\n",
      "45          45             Helen Lovejoy      0      0     0             0\n",
      "46          46            Jasper Beardly      0      0     0             0\n"
     ]
    }
   ],
   "source": [
    "overview = pd.read_csv(\"D:/Data/the-simpsons-characters-dataset/number_pic_char.csv\")\n",
    "print(overview)"
   ]
  },
  {
   "cell_type": "code",
   "execution_count": 18,
   "metadata": {},
   "outputs": [
    {
     "name": "stdout",
     "output_type": "stream",
     "text": [
      "[['characters/abraham_grampa_simpson/pic_0000.jpg' '57' '72' '52' '72'\n",
      "  'abraham_grampa_simpson']\n",
      " ['characters/abraham_grampa_simpson/pic_0001.jpg' '80' '31' '337' '354'\n",
      "  'abraham_grampa_simpson']\n",
      " ['characters/abraham_grampa_simpson/pic_0002.jpg' '128' '48' '285' '407'\n",
      "  'abraham_grampa_simpson']\n",
      " ['characters/abraham_grampa_simpson/pic_0003.jpg' '72' '126' '158' '275'\n",
      "  'abraham_grampa_simpson']\n",
      " ['characters/abraham_grampa_simpson/pic_0004.jpg' '123' '61' '294' '416'\n",
      "  'abraham_grampa_simpson']]\n"
     ]
    }
   ],
   "source": [
    "data = np.loadtxt(\"D:/Data/the-simpsons-characters-dataset/annotation_windows.txt\", dtype=str, delimiter=',')\n",
    "print(data[:5])\n",
    "# Data has shape: PATH, UPPER_LEFT_CORNER_X, UPPER_LEFT_CORNER_Y , LOWER_RIGHT_CORNER_X, LOWER_RIGHT_CORNER_Y, CHARACTER"
   ]
  },
  {
   "cell_type": "code",
   "execution_count": 19,
   "metadata": {},
   "outputs": [
    {
     "name": "stdout",
     "output_type": "stream",
     "text": [
      "Number of images: 6752\n"
     ]
    }
   ],
   "source": [
    "print('Number of images:', len(data))"
   ]
  },
  {
   "cell_type": "code",
   "execution_count": 20,
   "metadata": {},
   "outputs": [],
   "source": [
    "np.random.seed(42)\n",
    "np.random.shuffle(data)"
   ]
  },
  {
   "cell_type": "code",
   "execution_count": 21,
   "metadata": {},
   "outputs": [
    {
     "name": "stdout",
     "output_type": "stream",
     "text": [
      "4726\n",
      "2026\n"
     ]
    }
   ],
   "source": [
    "print(len(data_train))\n",
    "print(len(data_test))"
   ]
  },
  {
   "cell_type": "code",
   "execution_count": 29,
   "metadata": {},
   "outputs": [],
   "source": [
    "map_characters = {0: 'abraham_grampa_simpson', 1: 'apu_nahasapeemapetilon', 2: 'bart_simpson', \n",
    "        3: 'charles_montgomery_burns', 4: 'chief_wiggum', 5: 'comic_book_guy', 6: 'edna_krabappel', \n",
    "        7: 'homer_simpson', 8: 'kent_brockman', 9: 'krusty_the_clown', 10: 'lisa_simpson', \n",
    "        11: 'marge_simpson', 12: 'milhouse_van_houten', 13: 'moe_szyslak', \n",
    "        14: 'ned_flanders', 15: 'nelson_muntz', 16: 'principal_skinner', 17: 'sideshow_bob'}\n",
    "pic_size = 64\n",
    "num_classes = len(map_characters)"
   ]
  },
  {
   "cell_type": "code",
   "execution_count": 51,
   "metadata": {},
   "outputs": [
    {
     "name": "stdout",
     "output_type": "stream",
     "text": [
      "lisa_simpson\n"
     ]
    },
    {
     "ename": "TypeError",
     "evalue": "pop expected at least 1 arguments, got 0",
     "output_type": "error",
     "traceback": [
      "\u001b[1;31m---------------------------------------------------------------------------\u001b[0m",
      "\u001b[1;31mTypeError\u001b[0m                                 Traceback (most recent call last)",
      "\u001b[1;32m<ipython-input-51-c6143893ff2a>\u001b[0m in \u001b[0;36m<module>\u001b[1;34m\u001b[0m\n\u001b[0;32m      6\u001b[0m         \u001b[0mprint\u001b[0m\u001b[1;33m(\u001b[0m\u001b[0mdata\u001b[0m\u001b[1;33m[\u001b[0m\u001b[1;36m5\u001b[0m\u001b[1;33m]\u001b[0m\u001b[1;33m)\u001b[0m\u001b[1;33m\u001b[0m\u001b[1;33m\u001b[0m\u001b[0m\n\u001b[0;32m      7\u001b[0m         \u001b[0mx_train\u001b[0m\u001b[1;33m.\u001b[0m\u001b[0mappend\u001b[0m\u001b[1;33m(\u001b[0m\u001b[0mcv2\u001b[0m\u001b[1;33m.\u001b[0m\u001b[0mimread\u001b[0m\u001b[1;33m(\u001b[0m\u001b[1;34m'D:/Data/the-simpsons-characters-dataset/'\u001b[0m \u001b[1;33m+\u001b[0m \u001b[0mdata\u001b[0m\u001b[1;33m[\u001b[0m\u001b[1;36m0\u001b[0m\u001b[1;33m]\u001b[0m\u001b[1;33m)\u001b[0m\u001b[1;33m)\u001b[0m\u001b[1;33m\u001b[0m\u001b[1;33m\u001b[0m\u001b[0m\n\u001b[1;32m----> 8\u001b[1;33m         \u001b[0my_train\u001b[0m\u001b[1;33m.\u001b[0m\u001b[0mappend\u001b[0m\u001b[1;33m(\u001b[0m\u001b[0mmap_characters\u001b[0m\u001b[1;33m.\u001b[0m\u001b[0mpop\u001b[0m\u001b[1;33m(\u001b[0m\u001b[1;33m)\u001b[0m\u001b[1;33m)\u001b[0m\u001b[1;33m\u001b[0m\u001b[1;33m\u001b[0m\u001b[0m\n\u001b[0m",
      "\u001b[1;31mTypeError\u001b[0m: pop expected at least 1 arguments, got 0"
     ]
    }
   ],
   "source": [
    "# Load training data\n",
    "x = []\n",
    "y = []\n",
    "for datapiece in data[:10]:\n",
    "    for item in map_characters.items():\n",
    "        if item[1] == datapiece[5]:\n",
    "            x.append(cv2.imread('D:/Data/the-simpsons-characters-dataset/' + datapiece[0]))\n",
    "            y.append(item[0])"
   ]
  },
  {
   "cell_type": "code",
   "execution_count": 31,
   "metadata": {},
   "outputs": [
    {
     "data": {
      "text/plain": [
       "[]"
      ]
     },
     "execution_count": 31,
     "metadata": {},
     "output_type": "execute_result"
    }
   ],
   "source": [
    "x_train, y_train, x_test, y_test = train_test_split(x, y, test_size = 0.3, random_state = 42)"
   ]
  },
  {
   "cell_type": "code",
   "execution_count": null,
   "metadata": {},
   "outputs": [],
   "source": []
  },
  {
   "cell_type": "code",
   "execution_count": null,
   "metadata": {},
   "outputs": [],
   "source": []
  },
  {
   "cell_type": "code",
   "execution_count": null,
   "metadata": {},
   "outputs": [],
   "source": []
  },
  {
   "cell_type": "code",
   "execution_count": 27,
   "metadata": {},
   "outputs": [],
   "source": [
    "# Load test data\n",
    "x_test = []\n",
    "y_test = []\n",
    "for data in data_test:\n",
    "    x_train.append(cv2.imread('D:/Data/the-simpsons-characters-dataset/' + data[0]))\n",
    "    y_train.append(data[5])"
   ]
  },
  {
   "cell_type": "code",
   "execution_count": null,
   "metadata": {},
   "outputs": [],
   "source": []
  }
 ],
 "metadata": {
  "kernelspec": {
   "display_name": "Python 3",
   "language": "python",
   "name": "python3"
  },
  "language_info": {
   "codemirror_mode": {
    "name": "ipython",
    "version": 3
   },
   "file_extension": ".py",
   "mimetype": "text/x-python",
   "name": "python",
   "nbconvert_exporter": "python",
   "pygments_lexer": "ipython3",
   "version": "3.7.7"
  }
 },
 "nbformat": 4,
 "nbformat_minor": 4
}
