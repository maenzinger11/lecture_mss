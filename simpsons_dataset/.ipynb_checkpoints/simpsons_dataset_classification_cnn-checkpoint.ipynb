{
 "cells": [
  {
   "cell_type": "code",
   "execution_count": 1,
   "metadata": {},
   "outputs": [
    {
     "name": "stdout",
     "output_type": "stream",
     "text": [
      "1.18.1\n",
      "1.0.3\n",
      "3.4.2\n",
      "2.1.0\n"
     ]
    }
   ],
   "source": [
    "import numpy as np\n",
    "print(np.__version__)\n",
    "\n",
    "import pandas as pd\n",
    "print(pd.__version__)\n",
    "\n",
    "import cv2\n",
    "print(cv2.__version__)\n",
    "\n",
    "import tensorflow as tf\n",
    "print(tf.__version__)\n",
    "\n",
    "from sklearn.model_selection import train_test_split\n",
    "\n",
    "import matplotlib.pyplot as plt\n",
    "from PIL import Image"
   ]
  },
  {
   "cell_type": "code",
   "execution_count": 2,
   "metadata": {},
   "outputs": [
    {
     "name": "stdout",
     "output_type": "stream",
     "text": [
      "    Unnamed: 0                      name  total  train  test  bounding_box\n",
      "0            0             Homer Simpson   2246   1909   337           612\n",
      "1            1              Ned Flanders   1454   1236   218           595\n",
      "2            2               Moe Szyslak   1452   1234   218           215\n",
      "3            3              Lisa Simpson   1354   1151   203           562\n",
      "4            4              Bart Simpson   1342   1141   201           554\n",
      "5            5             Marge Simpson   1291   1097   194           557\n",
      "6            6          Krusty The Clown   1206   1025   181           226\n",
      "7            7         Principal Skinner   1194   1015   179           506\n",
      "8            8  Charles Montgomery Burns   1193   1014   179           650\n",
      "9            9       Milhouse Van Houten   1079    917   162           210\n",
      "10          10              Chief Wiggum    986    838   148           209\n",
      "11          11    Abraham Grampa Simpson    913    776   137           595\n",
      "12          12              Sideshow Bob    877    745   132           203\n",
      "13          13    Apu Nahasapeemapetilon    623    530    93           206\n",
      "14          14             Kent Brockman    498    423    75           213\n",
      "15          15            Comic Book Guy    469    399    70           208\n",
      "16          16            Edna Krabappel    457    388    69           212\n",
      "17          17              Nelson Muntz    358    304    54           219\n",
      "18          18             Lenny Leonard    310    264    46             0\n",
      "19          19              Mayor Quimby    246    209    37             0\n",
      "20          20           Waylon Smithers    181    154    27             0\n",
      "21          21            Maggie Simpson    128    109    19             0\n",
      "22          22      Groundskeeper Willie    121    103    18             0\n",
      "23          23             Barney Gumble    106     90    16             0\n",
      "24          24             Selma Bouvier    103     88    15             0\n",
      "25          25              Carl Carlson     98     83    15             0\n",
      "26          26              Ralph Wiggum     89     76    13             0\n",
      "27          27             Patty Bouvier     72     61    11             0\n",
      "28          28             Martin Prince     71     60    11             0\n",
      "29          29      Professor John Frink     65     55    10             0\n",
      "30          30            Snake Jailbird     55     47     8             0\n",
      "31          31           Cletus Spuckler     47     40     7             0\n",
      "32          32        Rainier Wolfcastle     45     38     7             0\n",
      "33          33             Agnes Skinner     42     36     6             0\n",
      "34          34              Sideshow Mel     40     34     6             0\n",
      "35          35                 Otto Mann     32     27     5             0\n",
      "36          36                  Fat Tony     27     23     4             0\n",
      "37          37                       Gil     27     23     4             0\n",
      "38          38               Miss Hoover     17     14     3             0\n",
      "39          39                 Disco Stu      8      7     1             0\n",
      "40          40              Troy Mcclure      8      7     1             0\n",
      "41          41               Lionel Hutz      3      3     0             0\n",
      "42          42               Jimbo Jones      0      0     0             0\n",
      "43          43             Bumblebee Man      0      0     0             0\n",
      "44          44              Hans Moleman      0      0     0             0\n",
      "45          45             Helen Lovejoy      0      0     0             0\n",
      "46          46            Jasper Beardly      0      0     0             0\n"
     ]
    }
   ],
   "source": [
    "overview = pd.read_csv(\"D:/Data/the-simpsons-characters-dataset/number_pic_char.csv\")\n",
    "print(overview)"
   ]
  },
  {
   "cell_type": "code",
   "execution_count": 3,
   "metadata": {},
   "outputs": [
    {
     "name": "stdout",
     "output_type": "stream",
     "text": [
      "[['characters/abraham_grampa_simpson/pic_0000.jpg' '57' '72' '52' '72'\n",
      "  'abraham_grampa_simpson']\n",
      " ['characters/abraham_grampa_simpson/pic_0001.jpg' '80' '31' '337' '354'\n",
      "  'abraham_grampa_simpson']\n",
      " ['characters/abraham_grampa_simpson/pic_0002.jpg' '128' '48' '285' '407'\n",
      "  'abraham_grampa_simpson']\n",
      " ['characters/abraham_grampa_simpson/pic_0003.jpg' '72' '126' '158' '275'\n",
      "  'abraham_grampa_simpson']\n",
      " ['characters/abraham_grampa_simpson/pic_0004.jpg' '123' '61' '294' '416'\n",
      "  'abraham_grampa_simpson']]\n"
     ]
    }
   ],
   "source": [
    "data = np.loadtxt(\"D:/Data/the-simpsons-characters-dataset/annotation_windows.txt\", dtype=str, delimiter=',')\n",
    "print(data[:5])\n",
    "# Data has shape: PATH, UPPER_LEFT_CORNER_X, UPPER_LEFT_CORNER_Y , LOWER_RIGHT_CORNER_X, LOWER_RIGHT_CORNER_Y, CHARACTER"
   ]
  },
  {
   "cell_type": "code",
   "execution_count": 4,
   "metadata": {},
   "outputs": [
    {
     "name": "stdout",
     "output_type": "stream",
     "text": [
      "Number of images: 6752\n"
     ]
    }
   ],
   "source": [
    "print('Number of images:', len(data))"
   ]
  },
  {
   "cell_type": "code",
   "execution_count": 5,
   "metadata": {},
   "outputs": [],
   "source": [
    "random_seed = 99\n",
    "np.random.seed(random_seed)\n",
    "np.random.shuffle(data)"
   ]
  },
  {
   "cell_type": "code",
   "execution_count": 6,
   "metadata": {},
   "outputs": [],
   "source": [
    "# Map only the characters with given bounding boxes\n",
    "map_characters = {0: 'abraham_grampa_simpson', 1: 'apu_nahasapeemapetilon', 2: 'bart_simpson', \n",
    "        3: 'charles_montgomery_burns', 4: 'chief_wiggum', 5: 'comic_book_guy', 6: 'edna_krabappel', \n",
    "        7: 'homer_simpson', 8: 'kent_brockman', 9: 'krusty_the_clown', 10: 'lisa_simpson', \n",
    "        11: 'marge_simpson', 12: 'milhouse_van_houten', 13: 'moe_szyslak', \n",
    "        14: 'ned_flanders', 15: 'nelson_muntz', 16: 'principal_skinner', 17: 'sideshow_bob'}\n",
    "pic_size = 64\n",
    "num_classes = len(map_characters)"
   ]
  },
  {
   "cell_type": "code",
   "execution_count": 7,
   "metadata": {},
   "outputs": [],
   "source": [
    "# Load training data\n",
    "x = []\n",
    "y = []\n",
    "for datapiece in data:\n",
    "    for item in map_characters.items():\n",
    "        if item[1] == datapiece[5]:\n",
    "            temp = cv2.imread('D:/Data/the-simpsons-characters-dataset/' + datapiece[0])\n",
    "            if temp is not None:\n",
    "                x.append(cv2.resize(temp, (pic_size, pic_size)).astype('float32')/255)\n",
    "                y.append(item[0])\n",
    "x = np.array(x)\n",
    "y = np.array(y)"
   ]
  },
  {
   "cell_type": "code",
   "execution_count": 8,
   "metadata": {},
   "outputs": [],
   "source": [
    "x_train, x_test, y_train, y_test = train_test_split(x, y, test_size = 0.3, random_state = random_seed)"
   ]
  },
  {
   "cell_type": "code",
   "execution_count": 9,
   "metadata": {},
   "outputs": [
    {
     "name": "stdout",
     "output_type": "stream",
     "text": [
      "13\n",
      "[0. 0. 0. 0. 0. 0. 0. 0. 0. 0. 0. 0. 0. 1. 0. 0. 0. 0.]\n"
     ]
    }
   ],
   "source": [
    "print(y_train[0])\n",
    "y_test = tf.keras.utils.to_categorical(y_test, num_classes)\n",
    "y_train = tf.keras.utils.to_categorical(y_train, num_classes)\n",
    "print(y_train[0])"
   ]
  },
  {
   "cell_type": "code",
   "execution_count": 10,
   "metadata": {},
   "outputs": [
    {
     "name": "stdout",
     "output_type": "stream",
     "text": [
      "x_train length: 4704\n",
      "y_train length: 4704\n",
      "x_test length: 2016\n",
      "y_test length: 2016\n"
     ]
    }
   ],
   "source": [
    "print('x_train length:', len(x_train))\n",
    "print('y_train length:', len(y_train))\n",
    "print('x_test length:', len(x_test))\n",
    "print('y_test length:', len(y_test))"
   ]
  },
  {
   "cell_type": "code",
   "execution_count": 11,
   "metadata": {},
   "outputs": [
    {
     "name": "stdout",
     "output_type": "stream",
     "text": [
      "Model: \"sequential\"\n",
      "_________________________________________________________________\n",
      "Layer (type)                 Output Shape              Param #   \n",
      "=================================================================\n",
      "conv2d (Conv2D)              (None, 64, 64, 32)        896       \n",
      "_________________________________________________________________\n",
      "activation (Activation)      (None, 64, 64, 32)        0         \n",
      "_________________________________________________________________\n",
      "conv2d_1 (Conv2D)            (None, 62, 62, 32)        9248      \n",
      "_________________________________________________________________\n",
      "activation_1 (Activation)    (None, 62, 62, 32)        0         \n",
      "_________________________________________________________________\n",
      "max_pooling2d (MaxPooling2D) (None, 31, 31, 32)        0         \n",
      "_________________________________________________________________\n",
      "dropout (Dropout)            (None, 31, 31, 32)        0         \n",
      "_________________________________________________________________\n",
      "conv2d_2 (Conv2D)            (None, 31, 31, 64)        18496     \n",
      "_________________________________________________________________\n",
      "activation_2 (Activation)    (None, 31, 31, 64)        0         \n",
      "_________________________________________________________________\n",
      "conv2d_3 (Conv2D)            (None, 29, 29, 64)        36928     \n",
      "_________________________________________________________________\n",
      "activation_3 (Activation)    (None, 29, 29, 64)        0         \n",
      "_________________________________________________________________\n",
      "max_pooling2d_1 (MaxPooling2 (None, 14, 14, 64)        0         \n",
      "_________________________________________________________________\n",
      "dropout_1 (Dropout)          (None, 14, 14, 64)        0         \n",
      "_________________________________________________________________\n",
      "flatten (Flatten)            (None, 12544)             0         \n",
      "_________________________________________________________________\n",
      "dense (Dense)                (None, 512)               6423040   \n",
      "_________________________________________________________________\n",
      "activation_4 (Activation)    (None, 512)               0         \n",
      "_________________________________________________________________\n",
      "dropout_2 (Dropout)          (None, 512)               0         \n",
      "_________________________________________________________________\n",
      "dense_1 (Dense)              (None, 18)                9234      \n",
      "_________________________________________________________________\n",
      "activation_5 (Activation)    (None, 18)                0         \n",
      "=================================================================\n",
      "Total params: 6,497,842\n",
      "Trainable params: 6,497,842\n",
      "Non-trainable params: 0\n",
      "_________________________________________________________________\n",
      "None\n"
     ]
    }
   ],
   "source": [
    "# create the CNN\n",
    "from tensorflow.keras.preprocessing.image import ImageDataGenerator\n",
    "from tensorflow.keras.models import Sequential\n",
    "from tensorflow.keras.layers import Dense, Dropout, Activation, Flatten\n",
    "from tensorflow.keras.layers import Conv2D, MaxPooling2D\n",
    "from tensorflow.keras.callbacks import ModelCheckpoint\n",
    "\n",
    "batch_size = 32\n",
    "epochs = 20\n",
    "input_shape = (pic_size, pic_size, 3)\n",
    "\n",
    "model = tf.keras.Sequential()\n",
    "model.add(Conv2D(32, (3, 3), padding='same', input_shape=input_shape))\n",
    "model.add(Activation('relu'))\n",
    "model.add(Conv2D(32, (3, 3)))\n",
    "model.add(Activation('relu'))\n",
    "model.add(MaxPooling2D(pool_size=(2, 2)))\n",
    "model.add(Dropout(0.25))\n",
    "\n",
    "model.add(Conv2D(64, (3, 3), padding='same'))\n",
    "model.add(Activation('relu'))\n",
    "model.add(Conv2D(64, (3, 3)))\n",
    "model.add(Activation('relu'))\n",
    "model.add(MaxPooling2D(pool_size=(2, 2)))\n",
    "model.add(Dropout(0.25))\n",
    "\n",
    "model.add(Flatten())\n",
    "model.add(Dense(512))\n",
    "model.add(Activation('relu'))\n",
    "model.add(Dropout(0.5))\n",
    "model.add(Dense(num_classes))\n",
    "model.add(Activation('softmax'))\n",
    "\n",
    "model.compile(loss='categorical_crossentropy',\n",
    "            optimizer=tf.keras.optimizers.RMSprop(lr=0.0001, decay=1e-6),\n",
    "            metrics=['accuracy'])\n",
    "\n",
    "print(model.summary())"
   ]
  },
  {
   "cell_type": "code",
   "execution_count": null,
   "metadata": {},
   "outputs": [
    {
     "name": "stdout",
     "output_type": "stream",
     "text": [
      "WARNING:tensorflow:From <ipython-input-12-4e5f273f66a5>:22: Model.fit_generator (from tensorflow.python.keras.engine.training) is deprecated and will be removed in a future version.\n",
      "Instructions for updating:\n",
      "Please use Model.fit, which supports generators.\n",
      "WARNING:tensorflow:sample_weight modes were coerced from\n",
      "  ...\n",
      "    to  \n",
      "  ['...']\n",
      "Train for 147 steps, validate on 2016 samples\n",
      "Epoch 1/20\n",
      "147/147 [==============================] - 9s 62ms/step - loss: 2.7047 - accuracy: 0.1433 - val_loss: 2.5390 - val_accuracy: 0.2351\n",
      "Epoch 2/20\n",
      "147/147 [==============================] - 7s 47ms/step - loss: 2.4586 - accuracy: 0.2438 - val_loss: 2.2938 - val_accuracy: 0.2922\n",
      "Epoch 3/20\n",
      "147/147 [==============================] - 7s 46ms/step - loss: 2.2921 - accuracy: 0.2949 - val_loss: 2.1620 - val_accuracy: 0.3532\n",
      "Epoch 4/20\n",
      "147/147 [==============================] - 7s 46ms/step - loss: 2.1961 - accuracy: 0.3272 - val_loss: 2.0336 - val_accuracy: 0.3983\n",
      "Epoch 5/20\n",
      "147/147 [==============================] - 6s 42ms/step - loss: 2.0843 - accuracy: 0.3616 - val_loss: 1.9367 - val_accuracy: 0.4211\n",
      "Epoch 6/20\n",
      "147/147 [==============================] - 7s 44ms/step - loss: 1.9936 - accuracy: 0.3935 - val_loss: 1.8456 - val_accuracy: 0.4643\n",
      "Epoch 7/20\n",
      "147/147 [==============================] - 6s 44ms/step - loss: 1.9033 - accuracy: 0.4254 - val_loss: 1.7398 - val_accuracy: 0.5015\n",
      "Epoch 8/20\n",
      "147/147 [==============================] - 7s 46ms/step - loss: 1.8252 - accuracy: 0.4496 - val_loss: 1.6888 - val_accuracy: 0.5193\n",
      "Epoch 9/20\n",
      " 83/147 [===============>..............] - ETA: 2s - loss: 1.7358 - accuracy: 0.4767"
     ]
    }
   ],
   "source": [
    "datagen = ImageDataGenerator(\n",
    "            featurewise_center=False,  # set input mean to 0 over the dataset\n",
    "            samplewise_center=False,  # set each sample mean to 0\n",
    "            featurewise_std_normalization=False,  # divide inputs by std of the dataset\n",
    "            samplewise_std_normalization=False,  # divide each input by its std\n",
    "            zca_whitening=False,  # apply ZCA whitening\n",
    "            rotation_range=10,  # randomly rotate images in the range (degrees, 0 to 180)\n",
    "            width_shift_range=0.1,  # randomly shift images horizontally (fraction of total width)\n",
    "            height_shift_range=0.1,  # randomly shift images vertically (fraction of total height)\n",
    "            horizontal_flip=True,  # randomly flip images\n",
    "            vertical_flip=False)  # randomly flip images\n",
    "\n",
    "datagen.fit(x_train)\n",
    "filepath=\"weights.hdf5\"\n",
    "checkpoint = ModelCheckpoint(filepath, monitor='val_acc', verbose=0, save_best_only=False, mode='max')\n",
    "callbacks_list = [checkpoint]\n",
    "history=model.fit_generator(datagen.flow(x_train, y_train,\n",
    "                                     batch_size=batch_size),\n",
    "                                    steps_per_epoch=x_train.shape[0] // batch_size,\n",
    "                                    epochs=epochs,\n",
    "                                    callbacks=callbacks_list,\n",
    "                                    validation_data=(x_test, y_test))"
   ]
  },
  {
   "cell_type": "code",
   "execution_count": null,
   "metadata": {},
   "outputs": [],
   "source": [
    "def plotHistory(history):\n",
    "    # Plot training & validation accuracy values\n",
    "    plt.plot(history.history['accuracy']),\n",
    "    plt.plot(history.history['val_accuracy'])\n",
    "    plt.title('Model accuracy')\n",
    "    plt.ylabel('Accuracy')\n",
    "    plt.xlabel('Epoch')\n",
    "    plt.legend(['Train', 'Validation'], loc='upper left')\n",
    "    plt.savefig('Model_Accuracy'+str(random_seed)+'.jpg')\n",
    "    plt.show()\n",
    "       \n",
    "    # Plot training & validation loss values\n",
    "    plt.plot(history.history['loss'])\n",
    "    plt.plot(history.history['val_loss'])\n",
    "    plt.title('Model loss')\n",
    "    plt.ylabel('Loss')\n",
    "    plt.xlabel('Epoch')\n",
    "    plt.legend(['Train', 'Validation'], loc='upper left')\n",
    "    plt.savefig('Model_Loss'+str(random_seed)+'.jpg')\n",
    "    plt.show()\n",
    "\n",
    "    history_frame = pd.DataFrame.from_dict({'accuracy': np.array(history.history['accuracy']), \n",
    "                                            'val_accuracy': np.array(history.history['val_accuracy']), \n",
    "                                            'loss': np.array(history.history['loss']), \n",
    "                                            'val_loss': np.array(history.history['val_loss'])})\n",
    "    history_frame.to_csv('model_loss_accuracy'+str(random_seed)+'.csv')\n",
    "\n",
    "plotHistory(history)"
   ]
  },
  {
   "cell_type": "code",
   "execution_count": null,
   "metadata": {},
   "outputs": [],
   "source": [
    "import glob, os\n",
    "images = []\n",
    "os.chdir('D:/Data/the-simpsons-characters-dataset/kaggle_simpson_testset/kaggle_simpson_testset/')\n",
    "for image_path in glob.glob(\"*.jpg\"):\n",
    "    temp = cv2.imread(image_path)\n",
    "    images.append(cv2.resize(temp, (pic_size, pic_size)).astype('float32')/255)\n",
    "images = np.array(images)\n",
    "y_preds = model.predict(images)"
   ]
  },
  {
   "cell_type": "code",
   "execution_count": null,
   "metadata": {},
   "outputs": [],
   "source": [
    "result_stack = []\n",
    "for image, y_pred in zip(images, y_preds):    \n",
    "    pred_name = map_characters[np.argmax(y_pred)]\n",
    "    perc = np.amax(y_pred)\n",
    "    image = cv2.cvtColor(image, cv2.COLOR_BGR2RGB)\n",
    "    result_stack.append({'name':pred_name, 'perc':perc, 'image':image})\n",
    "    \n",
    "def print_result(result_tuple):\n",
    "    print('Predicted Character:' + result_tuple['name'])\n",
    "    print('Percentage of guess:' + str(result_tuple['perc']))\n",
    "    plt.imshow(result_tuple['image'])\n",
    "    plt.show()"
   ]
  },
  {
   "cell_type": "code",
   "execution_count": null,
   "metadata": {},
   "outputs": [],
   "source": [
    "print('Give random numbers between 0 and', len(result_stack))"
   ]
  },
  {
   "cell_type": "code",
   "execution_count": null,
   "metadata": {},
   "outputs": [],
   "source": [
    "random_numbers = [7, 10, 43, 123, 154, 432, 643, 678, 468, 943]\n",
    "for rn in random_numbers:\n",
    "    print_result(result_stack[rn])"
   ]
  }
 ],
 "metadata": {
  "kernelspec": {
   "display_name": "Python 3",
   "language": "python",
   "name": "python3"
  },
  "language_info": {
   "codemirror_mode": {
    "name": "ipython",
    "version": 3
   },
   "file_extension": ".py",
   "mimetype": "text/x-python",
   "name": "python",
   "nbconvert_exporter": "python",
   "pygments_lexer": "ipython3",
   "version": "3.7.7"
  }
 },
 "nbformat": 4,
 "nbformat_minor": 4
}
